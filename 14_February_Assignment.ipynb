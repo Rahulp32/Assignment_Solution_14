{
 "cells": [
  {
   "cell_type": "markdown",
   "id": "3e18d4b2-e864-4699-b234-a8e2c8710baf",
   "metadata": {},
   "source": [
    "# 14_February_14th_Assignment"
   ]
  },
  {
   "cell_type": "code",
   "execution_count": null,
   "id": "e5607cad-76e6-476c-9000-0412b556b739",
   "metadata": {},
   "outputs": [],
   "source": []
  },
  {
   "cell_type": "markdown",
   "id": "ae873eb0-e147-4aa5-b906-3473252286ea",
   "metadata": {},
   "source": [
    "## Q1. What is multithreading in python? Why is it used? Name the module used to handle threads in python."
   ]
  },
  {
   "cell_type": "markdown",
   "id": "c37d41d3-e032-4ec6-b69d-79903d8602b0",
   "metadata": {},
   "source": [
    "### What is Multithreading in Python?\n",
    "\n",
    "#### Multithreading is the process of executing multiple threads (smaller units of a process) simultaneously within a single process. Threads share the same memory space but can execute independently, allowing multiple operations to be performed at the same time.\n",
    "#### Why is Multithreading Used?\n",
    "\n",
    "    (1). Concurrency:\n",
    "    Multithreading allows concurrent execution of tasks, improving program responsiveness. For instance, one thread can perform computations while another handles I/O operations.\n",
    "\n",
    "    (2). Efficient I/O Operations:\n",
    "    Threads are beneficial for I/O-bound tasks such as reading/writing files, downloading data from the internet, or communicating with external APIs.\n",
    "\n",
    "    (3). Parallelism (on a limited scale):\n",
    "    While the Global Interpreter Lock (GIL) limits true parallel execution of threads in CPU-bound tasks, multithreading can still manage multiple tasks efficiently for I/O-bound operations.\n",
    "\n",
    "    (4). Improved Program Performance:\n",
    "    By delegating tasks to separate threads, the main thread remains responsive, improving user experience in applications like GUIs.\n",
    "\n",
    "#### Module Used to Handle Threads in Python\n",
    "\n",
    "#### The threading module is used in Python to create and manage threads. It provides methods to:\n",
    "\n",
    "    *. Create and start threads.\n",
    "    *. Synchronize threads using locks, events, and conditions.\n",
    "    *. Handle thread-safe operations.\n",
    "\n",
    "#### The module used to handle threads in Python is the **`threading`** module.\n",
    "Basic Example Using threading Module:"
   ]
  },
  {
   "cell_type": "code",
   "execution_count": 7,
   "id": "4e06d6d1-66b8-426d-858f-244b9f3e1c79",
   "metadata": {},
   "outputs": [
    {
     "name": "stdout",
     "output_type": "stream",
     "text": [
      "Number: 0Number: 0\n",
      "\n",
      "Number: 1Number: 1\n",
      "\n",
      "Number: 2Number: 2\n",
      "\n",
      "Number: 3Number: 3\n",
      "\n",
      "Number: 4Number: 4\n",
      "\n",
      "Threads completed.\n"
     ]
    }
   ],
   "source": [
    "import threading\n",
    "import time\n",
    "\n",
    "# A sample function to be executed by threads\n",
    "def print_numbers():\n",
    "    for i in range(5):\n",
    "        print(f\"Number: {i}\")\n",
    "        time.sleep(1)\n",
    "\n",
    "# Creating two threads\n",
    "thread1 = threading.Thread(target=print_numbers)\n",
    "thread2 = threading.Thread(target=print_numbers)\n",
    "\n",
    "# Starting threads\n",
    "thread1.start()\n",
    "thread2.start()\n",
    "\n",
    "# Wait for threads to complete\n",
    "thread1.join()\n",
    "thread2.join()\n",
    "\n",
    "print(\"Threads completed.\")\n"
   ]
  },
  {
   "cell_type": "code",
   "execution_count": null,
   "id": "526732b8-253c-40b4-b3ec-c1264895b3ab",
   "metadata": {},
   "outputs": [],
   "source": []
  },
  {
   "cell_type": "markdown",
   "id": "4b5e833a-15cc-4095-b1de-67b3faef40d5",
   "metadata": {},
   "source": [
    "## Q2. Why threading module used? Write the use of the following functions\n",
    "###    (1). activeCount()\n",
    "###    (2). currentThread()\n",
    "###    (3). enumerate()"
   ]
  },
  {
   "cell_type": "markdown",
   "id": "d27807d0-eda2-4efb-8e51-bfabd43e2d90",
   "metadata": {},
   "source": [
    "### The threading module in Python is used for creating, managing, and working with threads. It enables concurrent execution of tasks in a program, making it useful for applications like:\n",
    "\n",
    "    (1). Performing Concurrent Tasks:\n",
    "    Allows running multiple tasks simultaneously, improving responsiveness and efficiency.\n",
    "\n",
    "    (2). Managing I/O-bound Operations:\n",
    "    Useful for operations like file handling, database access, or API calls that involve waiting for external resources.\n",
    "\n",
    "    (3). Improving Application Responsiveness:\n",
    "    Enhances the responsiveness of programs, especially in user interfaces where certain tasks can be offloaded to threads.\n",
    "\n",
    "### Uses of Threading Functions\n",
    "### 1. activeCount()\n",
    "\n",
    "    *. Purpose:\n",
    "        Returns the number of thread objects currently active in the program.\n",
    "    *. Use Case:\n",
    "        Helpful for debugging or monitoring active threads."
   ]
  },
  {
   "cell_type": "code",
   "execution_count": 17,
   "id": "cb3b40e3-9d48-4878-ac1e-ee02c560f333",
   "metadata": {},
   "outputs": [
    {
     "name": "stdout",
     "output_type": "stream",
     "text": [
      "Thread is running.\n",
      "Thread is running.\n",
      "Active Threads: 8\n"
     ]
    }
   ],
   "source": [
    "import threading\n",
    "\n",
    "def task():\n",
    "    print(\"Thread is running.\")\n",
    "\n",
    "# Creating threads\n",
    "thread1 = threading.Thread(target=task)\n",
    "thread2 = threading.Thread(target=task)\n",
    "\n",
    "thread1.start()\n",
    "thread2.start()\n",
    "\n",
    "# Counting active threads\n",
    "print(f\"Active Threads: {threading.active_count()}\")\n"
   ]
  },
  {
   "cell_type": "markdown",
   "id": "956f0485-7ed5-421c-b205-7617de431ee9",
   "metadata": {},
   "source": [
    "### 2. currentThread()\n",
    "\n",
    "    *. Purpose:\n",
    "        Returns the thread object representing the current thread of execution.\n",
    "    *. Use Case:\n",
    "        Useful for identifying the currently executing thread."
   ]
  },
  {
   "cell_type": "code",
   "execution_count": 26,
   "id": "cb017dba-7b1e-432a-bfef-51bd12a834a0",
   "metadata": {},
   "outputs": [
    {
     "name": "stdout",
     "output_type": "stream",
     "text": [
      "Current Thread: Custom_thread\n"
     ]
    }
   ],
   "source": [
    "import threading\n",
    "\n",
    "def task():\n",
    "    current = threading.current_thread()\n",
    "    print(f\"Current Thread: {current.name}\")\n",
    "\n",
    "# Creating and starting threads\n",
    "thread = threading.Thread(target=task, name=\"Custom_thread\")\n",
    "thread.start()\n"
   ]
  },
  {
   "cell_type": "markdown",
   "id": "79e405e6-686f-4bbb-a34a-aac1b60a6a77",
   "metadata": {},
   "source": [
    "### 3. enumerate()\n",
    "\n",
    "    *. Purpose:\n",
    "        Returns a list of all thread objects currently active, including the main thread and daemon threads.\n",
    "    *. Use Case:\n",
    "        Useful for inspecting or tracking threads in a program."
   ]
  },
  {
   "cell_type": "code",
   "execution_count": 29,
   "id": "bc0786ed-695d-4062-8e93-e4a570d8a94e",
   "metadata": {},
   "outputs": [
    {
     "name": "stdout",
     "output_type": "stream",
     "text": [
      "Thread is active.\n",
      "Thread is active.\n",
      "Active Threads: [<_MainThread(MainThread, started 8220721728)>, <Thread(IOPub, started daemon 6142373888)>, <Heartbeat(Heartbeat, started daemon 6159200256)>, <Thread(Thread-3 (_watch_pipe_fd), started daemon 6177173504)>, <Thread(Thread-4 (_watch_pipe_fd), started daemon 6193999872)>, <ControlThread(Control, started daemon 6210826240)>, <HistorySavingThread(IPythonHistorySavingThread, started 6227652608)>, <ParentPollerUnix(Thread-2, started daemon 6245052416)>]\n"
     ]
    }
   ],
   "source": [
    "import threading\n",
    "\n",
    "def task():\n",
    "    print(\"Thread is active.\")\n",
    "\n",
    "# Creating threads\n",
    "thread1 = threading.Thread(target=task)\n",
    "thread2 = threading.Thread(target=task)\n",
    "\n",
    "thread1.start()\n",
    "thread2.start()\n",
    "\n",
    "# Enumerating threads\n",
    "threads = threading.enumerate()\n",
    "print(f\"Active Threads: {threads}\")\n"
   ]
  },
  {
   "cell_type": "markdown",
   "id": "7be6f350-e1e3-425a-babd-660418bbae93",
   "metadata": {},
   "source": [
    "\n",
    "### **Summary of Functions**\n",
    "\n",
    "| **Function**      | **Description**                                                                 |\n",
    "|--------------------|---------------------------------------------------------------------------------|\n",
    "| `activeCount()`    | Returns the number of currently active threads.                                |\n",
    "| `currentThread()`  | Returns the thread object representing the current thread of execution.         |\n",
    "| `enumerate()`      | Returns a list of all currently active thread objects.                         |"
   ]
  },
  {
   "cell_type": "code",
   "execution_count": null,
   "id": "370114a9-0ddb-4b2c-8ff9-707b4e420184",
   "metadata": {},
   "outputs": [],
   "source": []
  },
  {
   "cell_type": "markdown",
   "id": "6d6603e9-3b04-43a0-ba18-e2cba71391ec",
   "metadata": {},
   "source": [
    "## Q3. Explain the following functions\n",
    "    (1). run()\n",
    "    (2). start()\n",
    "    (3). join()\n",
    "    (4). isAlive()"
   ]
  },
  {
   "cell_type": "markdown",
   "id": "a7653f16-c7c5-42ca-bd57-687e61c72cc1",
   "metadata": {},
   "source": [
    "### 1. run()\n",
    "\n",
    "    *. Purpose:\n",
    "        This method defines the behavior or functionality of the thread. When a thread is started using the start() method, the run() method is internally called.\n",
    "    *. Key Point:\n",
    "        You should not call run() directly; use start() instead to ensure the thread is managed properly by the threading module.\n",
    "\n",
    "### Example:"
   ]
  },
  {
   "cell_type": "code",
   "execution_count": 35,
   "id": "a1a5c9d5-bcb4-4114-8aed-97e8e81fcb0b",
   "metadata": {},
   "outputs": [
    {
     "name": "stdout",
     "output_type": "stream",
     "text": [
      "Thread is running.\n"
     ]
    }
   ],
   "source": [
    "import threading\n",
    "\n",
    "class MyThread(threading.Thread):\n",
    "    def run(self):\n",
    "        print(\"Thread is running.\")\n",
    "\n",
    "# Create an instance of MyThread and call run directly\n",
    "thread = MyThread()\n",
    "thread.run()  # This executes in the main thread, not as a separate thread.\n"
   ]
  },
  {
   "cell_type": "markdown",
   "id": "a3a528cb-73f9-45bd-9a63-40520ff947b8",
   "metadata": {},
   "source": [
    "### 2. start()\n",
    "\n",
    "    *. Purpose:\n",
    "        This method starts a thread and calls the run() method in a separate thread.\n",
    "    *. Key Point:\n",
    "        After calling start(), the thread begins execution in the background.\n",
    "\n",
    "### Example:"
   ]
  },
  {
   "cell_type": "code",
   "execution_count": 38,
   "id": "71dfec4b-c342-48d0-b3f2-8a9438a6915b",
   "metadata": {},
   "outputs": [
    {
     "name": "stdout",
     "output_type": "stream",
     "text": [
      "Thread has started.\n"
     ]
    }
   ],
   "source": [
    "import threading\n",
    "\n",
    "class MyThread(threading.Thread):\n",
    "    def run(self):\n",
    "        print(\"Thread has started.\")\n",
    "\n",
    "# Create an instance of MyThread and start it\n",
    "thread = MyThread()\n",
    "thread.start()  # This starts the thread and calls run in a separate thread.\n"
   ]
  },
  {
   "cell_type": "markdown",
   "id": "3d6d0bde-a33c-4d0b-a94a-ab506d2c561d",
   "metadata": {},
   "source": [
    "### 3. join()\n",
    "\n",
    "    *. Purpose:\n",
    "        This method blocks the calling thread until the thread on which it was called has finished execution. It ensures that the main program waits for the thread to complete.\n",
    "    *. Key Point:\n",
    "        Useful when you want to wait for a thread to finish before proceeding further.\n",
    "\n",
    "### Example:"
   ]
  },
  {
   "cell_type": "code",
   "execution_count": 41,
   "id": "a7ed5c36-cdf8-4a07-86a2-de3c99551cf4",
   "metadata": {},
   "outputs": [
    {
     "name": "stdout",
     "output_type": "stream",
     "text": [
      "Task completed.\n",
      "Main thread continues after thread completes.\n"
     ]
    }
   ],
   "source": [
    "import threading\n",
    "import time\n",
    "\n",
    "def task():\n",
    "    time.sleep(2)\n",
    "    print(\"Task completed.\")\n",
    "\n",
    "# Create and start a thread\n",
    "thread = threading.Thread(target=task)\n",
    "thread.start()\n",
    "\n",
    "# Wait for the thread to finish\n",
    "thread.join()\n",
    "print(\"Main thread continues after thread completes.\")\n"
   ]
  },
  {
   "cell_type": "markdown",
   "id": "ff2cd6d6-da2d-4ec2-8f40-967355eb31dc",
   "metadata": {},
   "source": [
    "### 4. isAlive()\n",
    "\n",
    "    *. Purpose:\n",
    "        This method checks whether a thread is still running (alive). Returns True if the thread is alive, False otherwise.\n",
    "    *. Key Point:\n",
    "        Helps in monitoring the status of a thread.\n",
    "\n",
    "### Example:"
   ]
  },
  {
   "cell_type": "code",
   "execution_count": 44,
   "id": "94b96a1b-e0f2-4ba2-b282-2a03fd348095",
   "metadata": {},
   "outputs": [
    {
     "name": "stdout",
     "output_type": "stream",
     "text": [
      "Is thread alive? True\n",
      "Task completed.\n",
      "Is thread alive? False\n"
     ]
    }
   ],
   "source": [
    "import threading\n",
    "import time\n",
    "\n",
    "def task():\n",
    "    time.sleep(2)\n",
    "    print(\"Task completed.\")\n",
    "\n",
    "# Create and start a thread\n",
    "thread = threading.Thread(target=task)\n",
    "thread.start()\n",
    "\n",
    "# Check if the thread is alive\n",
    "print(f\"Is thread alive? {thread.is_alive()}\")\n",
    "\n",
    "# Wait for the thread to finish\n",
    "thread.join()\n",
    "print(f\"Is thread alive? {thread.is_alive()}\")\n"
   ]
  },
  {
   "cell_type": "markdown",
   "id": "85a1a7c6-f0f8-4596-8ce0-7a50b59e171c",
   "metadata": {},
   "source": [
    "--\n",
    "\n",
    "### **Summary of Functions**\n",
    "\n",
    "| **Function** | **Description**                                                                 |\n",
    "|--------------|---------------------------------------------------------------------------------|\n",
    "| `run()`      | Defines the thread's behavior. Called internally by `start()`.                 |\n",
    "| `start()`    | Starts a thread and calls the `run()` method in a separate thread.             |\n",
    "| `join()`     | Blocks the calling thread until the thread has finished execution.             |\n",
    "| `isAlive()`  | Returns `True` if the thread is running; otherwise, returns `False`.           |"
   ]
  },
  {
   "cell_type": "code",
   "execution_count": null,
   "id": "ce7c32d6-258f-4179-9c6a-6298790e9004",
   "metadata": {},
   "outputs": [],
   "source": []
  },
  {
   "cell_type": "markdown",
   "id": "4424a7f2-2350-42bf-bac1-e4c1f24ad4c0",
   "metadata": {},
   "source": [
    "### Q4. Write a python program to create two threads. Thread one must print the list of squares and thread two must print the list of cubes."
   ]
  },
  {
   "cell_type": "code",
   "execution_count": 50,
   "id": "70b9c82f-d6b9-4fb2-9745-968adad0e1e1",
   "metadata": {},
   "outputs": [
    {
     "name": "stdout",
     "output_type": "stream",
     "text": [
      "Square of 1: 1Cube of 1: 1\n",
      "Cube of 2: 8\n",
      "Cube of 3: 27\n",
      "Cube of 4: 64\n",
      "Cube of 5: 125\n",
      "\n",
      "Square of 2: 4\n",
      "Square of 3: 9\n",
      "Square of 4: 16\n",
      "Square of 5: 25\n",
      "Both threads have completed execution.\n"
     ]
    }
   ],
   "source": [
    "import threading\n",
    "\n",
    "# Function to print squares of numbers\n",
    "def print_squares(numbers):\n",
    "    for num in numbers:\n",
    "        print(f\"Square of {num}: {num**2}\")\n",
    "\n",
    "# Function to print cubes of numbers\n",
    "def print_cubes(numbers):\n",
    "    for num in numbers:\n",
    "        print(f\"Cube of {num}: {num**3}\")\n",
    "\n",
    "# List of numbers\n",
    "numbers = [1, 2, 3, 4, 5]\n",
    "\n",
    "# Creating threads\n",
    "thread1 = threading.Thread(target=print_squares, args=(numbers,))\n",
    "thread2 = threading.Thread(target=print_cubes, args=(numbers,))\n",
    "\n",
    "# Starting threads\n",
    "thread1.start()\n",
    "thread2.start()\n",
    "\n",
    "# Waiting for threads to complete\n",
    "thread1.join()\n",
    "thread2.join()\n",
    "\n",
    "print(\"Both threads have completed execution.\")\n"
   ]
  },
  {
   "cell_type": "markdown",
   "id": "d8603704-9418-4faa-97ce-7d10a10853c6",
   "metadata": {},
   "source": [
    "### Explanation:\n",
    "\n",
    "    (1). Two threads are created:\n",
    "        *. One for printing squares.\n",
    "        *. Another for printing cubes.\n",
    "    (2). The start() method is used to run each thread concurrently.\n",
    "    (3). The join() method ensures the main thread waits for both threads to complete.\n",
    "    (4). The output may not always be in a fixed order because threads run concurrently."
   ]
  },
  {
   "cell_type": "code",
   "execution_count": null,
   "id": "660e6182-f054-44f7-830f-5b4cd098df1c",
   "metadata": {},
   "outputs": [],
   "source": []
  },
  {
   "cell_type": "markdown",
   "id": "149a76b8-74cf-4c07-98be-6537a2917680",
   "metadata": {},
   "source": [
    "### Q5. State advantages and disadvantages of multithreading."
   ]
  },
  {
   "cell_type": "markdown",
   "id": "455a5311-0602-440a-802f-fe5ab168c531",
   "metadata": {},
   "source": [
    "### Advantages of Multithreading:\n",
    "\n",
    "    (1). Improved Application Performance:\n",
    "        Concurrency allows multiple tasks to be executed simultaneously, enhancing the performance of I/O-bound tasks like file reading or network requests.\n",
    "\n",
    "    (2). Better Resource Utilization:\n",
    "        Multithreading helps better utilize CPU resources by allowing multiple threads to perform different tasks in parallel, especially on multi-core processors.\n",
    "\n",
    "    (3). Improved Responsiveness:\n",
    "        For applications with GUI (e.g., desktop apps), multithreading allows the user interface to remain responsive while other tasks (e.g., downloading files or processing data) run in the background.\n",
    "\n",
    "    (4). Efficient I/O Operations:\n",
    "        In cases of I/O-bound operations (like reading data from a file or database), multithreading can prevent the program from being blocked while waiting for these tasks to complete.\n",
    "\n",
    "    (5). Simplifies Code for Concurrent Tasks:\n",
    "        Threads make it easier to manage and write concurrent tasks without the complexity of managing separate processes.\n",
    "\n",
    "### Disadvantages of Multithreading:\n",
    "\n",
    "    (1). Complexity in Development:\n",
    "        Writing multithreaded programs is more complex compared to single-threaded programs. It requires careful handling of shared data and synchronization.\n",
    "\n",
    "    (2). Context Switching Overhead:\n",
    "        Frequent context switching between threads can reduce performance due to overhead in switching between threads, especially when a large number of threads are created.\n",
    "\n",
    "    (3). Global Interpreter Lock (GIL):\n",
    "        In Python, the Global Interpreter Lock (GIL) restricts execution to one thread at a time for CPU-bound tasks, limiting the effectiveness of multithreading for certain operations.\n",
    "\n",
    "    (4). Difficult to Debug:\n",
    "        Debugging multithreaded programs is more challenging as issues like race conditions or deadlocks can be hard to reproduce and track down.\n",
    "\n",
    "    (5). Increased Risk of Bugs:\n",
    "        Problems like race conditions, deadlocks, and thread synchronization issues can arise in multithreading, making debugging and ensuring correctness more difficult."
   ]
  },
  {
   "cell_type": "code",
   "execution_count": null,
   "id": "ddf696eb-74dd-4b80-9c41-0c987a3c4967",
   "metadata": {},
   "outputs": [],
   "source": []
  },
  {
   "cell_type": "markdown",
   "id": "4c9e5b19-c645-43f2-8bcd-e743298bb1b7",
   "metadata": {},
   "source": [
    "### Q6. Explain deadlocks and race conditions."
   ]
  },
  {
   "cell_type": "markdown",
   "id": "7e67a471-8d6a-43a7-84a8-88744c2f2f3a",
   "metadata": {},
   "source": [
    "### 1. Deadlocks:\n",
    "\n",
    "        A deadlock is a situation where two or more threads are blocked forever because they are each waiting for resources held by the other threads. As a result, none of the threads can proceed.\n",
    "\n",
    "    Cause:\n",
    "        Deadlocks occur when multiple threads are locked in a circular dependency, and each thread is waiting for the other to release the resource it needs.\n",
    "\n",
    "    Example: Suppose Thread A locks Resource 1 and waits for Resource 2, while Thread B locks Resource 2 and waits for Resource 1. Both threads will be stuck waiting for each other, leading to a deadlock."
   ]
  },
  {
   "cell_type": "code",
   "execution_count": null,
   "id": "2868fe9b-43e9-4518-a252-d57b875a5c53",
   "metadata": {},
   "outputs": [
    {
     "name": "stdout",
     "output_type": "stream",
     "text": [
      "Thread 1 acquired lock1Thread 2 acquired lock2\n",
      "\n"
     ]
    }
   ],
   "source": [
    "import threading\n",
    "\n",
    "# Lock objects\n",
    "lock1 = threading.Lock()\n",
    "lock2 = threading.Lock()\n",
    "\n",
    "# Thread 1 tries to acquire lock1 then lock2\n",
    "def thread1():\n",
    "    lock1.acquire()\n",
    "    print(\"Thread 1 acquired lock1\")\n",
    "    lock2.acquire()\n",
    "    print(\"Thread 1 acquired lock2\")\n",
    "\n",
    "# Thread 2 tries to acquire lock2 then lock1\n",
    "def thread2():\n",
    "    lock2.acquire()\n",
    "    print(\"Thread 2 acquired lock2\")\n",
    "    lock1.acquire()\n",
    "    print(\"Thread 2 acquired lock1\")\n",
    "\n",
    "# Create threads\n",
    "t1 = threading.Thread(target=thread1)\n",
    "t2 = threading.Thread(target=thread2)\n",
    "\n",
    "t1.start()\n",
    "t2.start()\n",
    "\n",
    "t1.join()\n",
    "t2.join()\n"
   ]
  },
  {
   "cell_type": "markdown",
   "id": "f1777083-4bef-490b-a630-3ac68ae083d9",
   "metadata": {},
   "source": [
    "### How to Avoid Deadlocks:\n",
    "        *. Use a timeout when trying to acquire locks.\n",
    "        *. Always acquire multiple locks in the same order.\n",
    "        *. Use higher-level synchronization primitives (like semaphore or queue) when possible.\n",
    "\n",
    "### 2. Race Conditions:\n",
    "\n",
    "    A race condition occurs when two or more threads access shared data simultaneously, and at least one thread modifies the data, leading to unpredictable results.\n",
    "\n",
    "    Cause:\n",
    "        Race conditions arise when threads are not properly synchronized, and there’s an issue with timing, meaning the execution order of the threads affects the result.\n",
    "\n",
    "    Example: \n",
    "        Consider two threads trying to increment the same counter. If both threads read the value of the counter at the same time and then increment it, the result may not be as expected."
   ]
  },
  {
   "cell_type": "code",
   "execution_count": null,
   "id": "66f230ea-407d-445e-8f50-df5f7e3a68c5",
   "metadata": {},
   "outputs": [],
   "source": [
    "import threading\n",
    "\n",
    "# Shared variable\n",
    "counter = 0\n",
    "\n",
    "# Function to increment the counter\n",
    "def increment():\n",
    "    global counter\n",
    "    for _ in range(100000):\n",
    "        counter += 1\n",
    "\n",
    "# Create threads\n",
    "thread1 = threading.Thread(target=increment)\n",
    "thread2 = threading.Thread(target=increment)\n",
    "\n",
    "# Start threads\n",
    "thread1.start()\n",
    "thread2.start()\n",
    "\n",
    "# Wait for both threads to finish\n",
    "thread1.join()\n",
    "thread2.join()\n",
    "\n",
    "print(f\"Final counter value: {counter}\")\n"
   ]
  },
  {
   "cell_type": "markdown",
   "id": "692539a8-b987-42aa-b3d2-de3b4e93ff2b",
   "metadata": {},
   "source": [
    "#### In this example, the counter might not always end up with the correct value (200000) due to the race condition.\n",
    "\n",
    "    *. How to Avoid Race Conditions:\n",
    "        *. Use locks (e.g., threading.Lock) to ensure that only one thread can modify shared data at a time.\n",
    "        *. Use higher-level thread-safe data structures (e.g., queue.Queue)."
   ]
  },
  {
   "cell_type": "code",
   "execution_count": null,
   "id": "158d3997-230a-4e44-b7bd-1e3ee5e8d54e",
   "metadata": {},
   "outputs": [],
   "source": []
  }
 ],
 "metadata": {
  "kernelspec": {
   "display_name": "Python 3 (ipykernel)",
   "language": "python",
   "name": "python3"
  },
  "language_info": {
   "codemirror_mode": {
    "name": "ipython",
    "version": 3
   },
   "file_extension": ".py",
   "mimetype": "text/x-python",
   "name": "python",
   "nbconvert_exporter": "python",
   "pygments_lexer": "ipython3",
   "version": "3.11.7"
  }
 },
 "nbformat": 4,
 "nbformat_minor": 5
}
